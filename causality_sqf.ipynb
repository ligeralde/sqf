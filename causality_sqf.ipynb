{
 "cells": [
  {
   "cell_type": "code",
   "execution_count": 1,
   "id": "4380bb53",
   "metadata": {},
   "outputs": [],
   "source": [
    "import numpy as np\n",
    "import pandas as pd"
   ]
  },
  {
   "cell_type": "code",
   "execution_count": 46,
   "id": "c0dea1ef",
   "metadata": {
    "scrolled": true
   },
   "outputs": [
    {
     "name": "stderr",
     "output_type": "stream",
     "text": [
      "/Users/poojakathail/miniconda3/lib/python3.8/site-packages/IPython/core/interactiveshell.py:3165: DtypeWarning: Columns (0,1,2,3,4,8,18,19,73,74,84,85,86,103,110,111) have mixed types.Specify dtype option on import or set low_memory=False.\n",
      "  has_raised = await self.run_ast_nodes(code_ast.body, cell_name,\n",
      "<ipython-input-46-0539f26c289c>:5: FutureWarning: Your version of xlrd is 1.2.0. In xlrd >= 2.0, only the xls format is supported. As a result, the openpyxl engine will be used if it is installed and the engine argument is not specified. Install openpyxl instead.\n",
      "  sqf_2020 = pd.read_excel(SQF_2020_FILE)\n"
     ]
    }
   ],
   "source": [
    "SQF_2016_FILE = \"sqf-2016.csv\"\n",
    "SQF_2020_FILE = \"sqf-2020.xlsx\"\n",
    "\n",
    "sqf_2016 = pd.read_csv(SQF_2016_FILE)\n",
    "sqf_2020 = pd.read_excel(SQF_2020_FILE)\n",
    "\n",
    "# filter to only Black or White suspect\n",
    "# sqf_2016 = sqf_2016[sqf_2016['race'].isin(['B', 'W'])]\n",
    "# sqf_2020 = sqf_2020[sqf_2020['SUSPECT_RACE_DESCRIPTION'].isin(['BLACK', 'WHITE'])]\n",
    "\n",
    "# format columns to have same names/values\n",
    "sqf_2016['RACE'] = [\"BLACK\" if val == \"B\" else \"WHITE\" if val == \"W\" else \"OTHER\" \n",
    "                    for val in sqf_2016['race'].values]\n",
    "sqf_2020['RACE'] = [val if val in [\"BLACK\", \"WHITE\"] else \"OTHER\" \n",
    "                    for val in sqf_2020['SUSPECT_RACE_DESCRIPTION'].values]\n",
    "\n",
    "sqf_2016['SEARCHED_OR_FRISKED'] =  (sqf_2016['searched'] == 'Y') | (sqf_2016['frisked'] == 'Y')\n",
    "sqf_2020['SEARCHED_OR_FRISKED'] = (sqf_2020['SEARCHED_FLAG'] == 'Y') | (sqf_2020['FRISKED_FLAG'] == 'Y')\n",
    "\n",
    "sqf_2016[\"WEAPON\"] = ((sqf_2016['pistol'] == 'Y') | (sqf_2016['riflshot'] == 'Y') | \n",
    "                      (sqf_2016['asltweap'] == 'Y') | (sqf_2016['knifcuti'] == 'Y') |\n",
    "                      (sqf_2016['machgun'] == 'Y') | (sqf_2016['machgun'] == 'Y'))\n",
    "sqf_2020[\"WEAPON\"] = sqf_2020['WEAPON_FOUND_FLAG'] == 'Y'\n",
    "\n",
    "sqf_data = {2016: sqf_2016, 2020: sqf_2020}"
   ]
  },
  {
   "cell_type": "code",
   "execution_count": 48,
   "id": "93e72880",
   "metadata": {},
   "outputs": [
    {
     "name": "stdout",
     "output_type": "stream",
     "text": [
      "2016\n",
      "BLACK\n",
      "WEAPON:  True\n",
      "0.9466192170818505\n",
      "WEAPON:  False\n",
      "0.6881132378960914\n",
      "WHITE\n",
      "WEAPON:  True\n",
      "0.9787234042553191\n",
      "WEAPON:  False\n",
      "0.5600981193785772\n",
      "2020\n",
      "BLACK\n",
      "WEAPON:  True\n",
      "0.9617083946980854\n",
      "WEAPON:  False\n",
      "0.677901023890785\n",
      "WHITE\n",
      "WEAPON:  True\n",
      "0.9538461538461539\n",
      "WEAPON:  False\n",
      "0.5676359039190898\n"
     ]
    }
   ],
   "source": [
    "for year, data in sqf_data.items():\n",
    "    print(year)\n",
    "    for race in [\"BLACK\", \"WHITE\"]:\n",
    "        print(race)\n",
    "        for weapon in [True, False]:\n",
    "            print(\"WEAPON: \", weapon)\n",
    "            print(len(data[(data[\"RACE\"] == race) & \n",
    "                     (data[\"WEAPON\"] == weapon) & \n",
    "                     (data[\"SEARCHED_OR_FRISKED\"] == True)])/len(data[(data[\"RACE\"] == race) & \n",
    "                                                                      (data[\"WEAPON\"] == weapon)]))"
   ]
  },
  {
   "cell_type": "code",
   "execution_count": 49,
   "id": "b83d6df9",
   "metadata": {},
   "outputs": [
    {
     "name": "stdout",
     "output_type": "stream",
     "text": [
      "2016\n",
      "WEAPON:  True\n",
      "0.9509981851179673\n",
      "WEAPON:  False\n",
      "0.6650075923738822\n",
      "2020\n",
      "WEAPON:  True\n",
      "0.9453125\n",
      "WEAPON:  False\n",
      "0.6539561487130601\n"
     ]
    }
   ],
   "source": [
    "for year, data in sqf_data.items():\n",
    "    print(year)\n",
    "    for weapon in [True, False]:\n",
    "        print(\"WEAPON: \", weapon)\n",
    "        print(len(data[(data[\"WEAPON\"] == weapon) & \n",
    "                       (data[\"SEARCHED_OR_FRISKED\"] == True)])/len(data[(data[\"WEAPON\"] == weapon)]))"
   ]
  },
  {
   "cell_type": "code",
   "execution_count": 52,
   "id": "9742909e",
   "metadata": {},
   "outputs": [
    {
     "name": "stdout",
     "output_type": "stream",
     "text": [
      "2016\n",
      "0.04441757355904877\n",
      "2020\n",
      "0.12070410729253982\n"
     ]
    }
   ],
   "source": [
    "for year, data in sqf_data.items():\n",
    "    print(year)\n",
    "    print(len(data[(data[\"WEAPON\"] == True)])/len(data))"
   ]
  },
  {
   "cell_type": "code",
   "execution_count": 51,
   "id": "9f8c6463",
   "metadata": {},
   "outputs": [
    {
     "name": "stdout",
     "output_type": "stream",
     "text": [
      "2016\n",
      "0.6777106005642886\n",
      "2020\n",
      "0.6891240569991618\n"
     ]
    }
   ],
   "source": [
    "for year, data in sqf_data.items():\n",
    "    print(year)\n",
    "    print(len(data[(data[\"SEARCHED_OR_FRISKED\"] == True)])/len(data))"
   ]
  }
 ],
 "metadata": {
  "kernelspec": {
   "display_name": "Python 3",
   "language": "python",
   "name": "python3"
  },
  "language_info": {
   "codemirror_mode": {
    "name": "ipython",
    "version": 3
   },
   "file_extension": ".py",
   "mimetype": "text/x-python",
   "name": "python",
   "nbconvert_exporter": "python",
   "pygments_lexer": "ipython3",
   "version": "3.8.5"
  }
 },
 "nbformat": 4,
 "nbformat_minor": 5
}
